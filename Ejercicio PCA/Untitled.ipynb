{
 "cells": [
  {
   "cell_type": "markdown",
   "id": "5a45b3c3",
   "metadata": {},
   "source": [
    "Hola! Esto es una prueba de concepto de lo que se puede hacer en Jupyter Notebook."
   ]
  },
  {
   "cell_type": "code",
   "execution_count": 1,
   "id": "96919620",
   "metadata": {},
   "outputs": [
    {
     "name": "stdout",
     "output_type": "stream",
     "text": [
      "Hello World!\n"
     ]
    }
   ],
   "source": [
    "print(\"Hello World!\")"
   ]
  },
  {
   "cell_type": "markdown",
   "id": "4948c8df",
   "metadata": {},
   "source": [
    "Aca le vamos a hacer algo un poco mas complejo"
   ]
  },
  {
   "cell_type": "code",
   "execution_count": 2,
   "id": "49f8849d",
   "metadata": {},
   "outputs": [
    {
     "name": "stdout",
     "output_type": "stream",
     "text": [
      "3.141592653589793\n"
     ]
    }
   ],
   "source": [
    "import math\n",
    "\n",
    "print(math.pi)"
   ]
  },
  {
   "cell_type": "markdown",
   "id": "00ae9e6c",
   "metadata": {},
   "source": [
    "Eso es todo. Gracias"
   ]
  }
 ],
 "metadata": {
  "kernelspec": {
   "display_name": "Python 3",
   "language": "python",
   "name": "python3"
  },
  "language_info": {
   "codemirror_mode": {
    "name": "ipython",
    "version": 3
   },
   "file_extension": ".py",
   "mimetype": "text/x-python",
   "name": "python",
   "nbconvert_exporter": "python",
   "pygments_lexer": "ipython3",
   "version": "3.8.8"
  }
 },
 "nbformat": 4,
 "nbformat_minor": 5
}
